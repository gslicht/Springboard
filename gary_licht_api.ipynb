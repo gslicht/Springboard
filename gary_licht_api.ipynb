{
 "cells": [
  {
   "cell_type": "markdown",
   "metadata": {},
   "source": [
    "This exercise will require you to pull some data from the Qunadl API. Qaundl is currently the most widely used aggregator of financial market data."
   ]
  },
  {
   "cell_type": "markdown",
   "metadata": {},
   "source": [
    "As a first step, you will need to register a free account on the http://www.quandl.com website."
   ]
  },
  {
   "cell_type": "markdown",
   "metadata": {},
   "source": [
    "After you register, you will be provided with a unique API key, that you should store:"
   ]
  },
  {
   "cell_type": "code",
   "execution_count": 124,
   "metadata": {},
   "outputs": [],
   "source": [
    "# Store the API key as a string - according to PEP8, constants are always named in all upper case\n",
    "API_KEY = 'DUMMY'"
   ]
  },
  {
   "cell_type": "markdown",
   "metadata": {},
   "source": [
    "Qaundl has a large number of data sources, but, unfortunately, most of them require a Premium subscription. Still, there are also a good number of free datasets."
   ]
  },
  {
   "cell_type": "markdown",
   "metadata": {},
   "source": [
    "For this mini project, we will focus on equities data from the Frankfurt Stock Exhange (FSE), which is available for free. We'll try and analyze the stock prices of a company called Carl Zeiss Meditec, which manufactures tools for eye examinations, as well as medical lasers for laser eye surgery: https://www.zeiss.com/meditec/int/home.html. The company is listed under the stock ticker AFX_X."
   ]
  },
  {
   "cell_type": "markdown",
   "metadata": {},
   "source": [
    "You can find the detailed Quandl API instructions here: https://docs.quandl.com/docs/time-series"
   ]
  },
  {
   "cell_type": "markdown",
   "metadata": {},
   "source": [
    "While there is a dedicated Python package for connecting to the Quandl API, we would prefer that you use the *requests* package, which can be easily downloaded using *pip* or *conda*. You can find the documentation for the package here: http://docs.python-requests.org/en/master/ "
   ]
  },
  {
   "cell_type": "markdown",
   "metadata": {},
   "source": [
    "Finally, apart from the *requests* package, you are encouraged to not use any third party Python packages, such as *pandas*, and instead focus on what's available in the Python Standard Library (the *collections* module might come in handy: https://pymotw.com/3/collections/ ).\n",
    "Also, since you won't have access to DataFrames, you are encouraged to us Python's native data structures - preferably dictionaries, though some questions can also be answered using lists.\n",
    "You can read more on these data structures here: https://docs.python.org/3/tutorial/datastructures.html"
   ]
  },
  {
   "cell_type": "markdown",
   "metadata": {},
   "source": [
    "Keep in mind that the JSON responses you will be getting from the API map almost one-to-one to Python's dictionaries. Unfortunately, they can be very nested, so make sure you read up on indexing dictionaries in the documentation provided above."
   ]
  },
  {
   "cell_type": "code",
   "execution_count": 125,
   "metadata": {},
   "outputs": [],
   "source": [
    "# First, import the relevant modules\n",
    "import requests\n"
   ]
  },
  {
   "cell_type": "code",
   "execution_count": 126,
   "metadata": {},
   "outputs": [],
   "source": [
    "# Now, call the Quandl API and pull out a small sample of the data (only one day) to get a glimpse\n",
    "url = 'https://www.quandl.com/api/v3/datasets/FSE/AFX_X/data.json?start_date=2020-03-20,end_date=2020-03020&api_key=' + API_KEY  \n",
    "# into the JSON structure that will be returned\n",
    "r = requests.get(url)\n"
   ]
  },
  {
   "cell_type": "code",
   "execution_count": 127,
   "metadata": {},
   "outputs": [
    {
     "name": "stdout",
     "output_type": "stream",
     "text": [
      "application/json; charset=utf-8\n",
      "{\"dataset_data\":{\"limit\":null,\"transform\":null,\"column_index\":null,\"column_names\":[\"Date\",\"Open\",\"High\",\"Low\",\"Close\",\"Change\",\"Traded Volume\",\"Turnover\",\"Last Price of the Day\",\"Daily Traded Units\",\"Daily Turnover\"],\"start_date\":\"2020-03-20\",\"end_date\":\"2020-03-20\",\"frequency\":\"daily\",\"data\":[[\"2020-03-20\",76.65,82.35,75.7,78.25,null,446534.0,34997042.95,null,null,null]],\"collapse\":null,\"order\":null}}\n"
     ]
    }
   ],
   "source": [
    "# Inspect the JSON structure of the object you created, and take note of how nested it is,\n",
    "# as well as the overall structure\n",
    "print(r.headers['Content-Type'])\n",
    "print(r.text)\n"
   ]
  },
  {
   "cell_type": "markdown",
   "metadata": {},
   "source": [
    "These are your tasks for this mini project:\n",
    "\n",
    "1. Collect data from the Franfurt Stock Exchange, for the ticker AFX_X, for the whole year 2017 (keep in mind that the date format is YYYY-MM-DD).\n",
    "2. Convert the returned JSON object into a Python dictionary.\n",
    "3. Calculate what the highest and lowest opening prices were for the stock in this period.\n",
    "4. What was the largest change in any one day (based on High and Low price)?\n",
    "5. What was the largest change between any two days (based on Closing Price)?\n",
    "6. What was the average daily trading volume during this year?\n",
    "7. (Optional) What was the median trading volume during this year. (Note: you may need to implement your own function for calculating the median.)"
   ]
  },
  {
   "cell_type": "markdown",
   "metadata": {
    "collapsed": true
   },
   "source": [
    "        QUESTION 1"
   ]
  },
  {
   "cell_type": "code",
   "execution_count": 128,
   "metadata": {},
   "outputs": [],
   "source": [
    "#specify url call \n",
    "url1 = 'https://www.quandl.com/api/v3/datasets/FSE/AFX_X/data.json?start_date=2017-01-01&end_date=2017-12-31&api_key=' + API_KEY  \n",
    "# make get request\n",
    "r1 = requests.get(url1)"
   ]
  },
  {
   "cell_type": "markdown",
   "metadata": {},
   "source": [
    "QUESTION 2"
   ]
  },
  {
   "cell_type": "code",
   "execution_count": 129,
   "metadata": {},
   "outputs": [
    {
     "name": "stdout",
     "output_type": "stream",
     "text": [
      "dict_keys(['limit', 'transform', 'column_index', 'column_names', 'start_date', 'end_date', 'frequency', 'data', 'collapse', 'order'])\n",
      "start date =2017-01-01\n",
      "end date =2017-12-31\n"
     ]
    }
   ],
   "source": [
    "#explicitly convert to json object\n",
    "json1 = r1.json()\n",
    "#convert to dictionary\n",
    "dict_zeiss_2017 = dict(json1[\"dataset_data\"])\n",
    "#check dictionary keys and date key-values\n",
    "print(dict_zeiss_2017.keys())\n",
    "print('start date =' + dict_zeiss_2017['start_date'])\n",
    "print('end date =' + dict_zeiss_2017['end_date'])"
   ]
  },
  {
   "cell_type": "markdown",
   "metadata": {},
   "source": [
    "After inspecting dictionary, it is a mess to work with so going to manually wrangle into more intuitive shape given instructions not to use pandas or json libraries"
   ]
  },
  {
   "cell_type": "code",
   "execution_count": 130,
   "metadata": {},
   "outputs": [],
   "source": [
    "#Create lists for main data (chosing to ignore metadata )\n",
    "n = len(dict_zeiss_2017['data'])                                    #number of days / data in 2017\n",
    "\n",
    "dates = [dict_zeiss_2017['data'][j][0] for j in range(n)]           #list comprehension for ordered dates\n",
    "opening = [dict_zeiss_2017['data'][j][1] for j in range(n)]         #list comprehension for opening price in same order as dates\n",
    "high = [dict_zeiss_2017['data'][j][2] for j in range(n)]            #list comprehension for high price in same order as dates\n",
    "low = [dict_zeiss_2017['data'][j][3] for j in range(n)]             #list comprehension for low price in same order as dates\n",
    "closing = [dict_zeiss_2017['data'][j][4] for j in range(n)]         #list comprehension for closing price in same order as dates\n",
    "volume = [dict_zeiss_2017['data'][j][6] for j in range(n)]          #list comprehension for volume in same order as dates\n",
    "turnover = [dict_zeiss_2017['data'][j][7] for j in range(n)]        #list comprehension for turnover in same order as dates\n",
    "\n",
    "#generate clean dictionary of data only using dictionary comprtehension and lists\n",
    "clean_zeiss_2017 = { dates[j]:{'open': opening[j], 'high': high[j], 'low': low[j], 'close':closing [j], 'volume': volume[j],\n",
    "                     'turnover': turnover[j]} for j in range(n) }"
   ]
  },
  {
   "cell_type": "code",
   "execution_count": 131,
   "metadata": {},
   "outputs": [
    {
     "data": {
      "text/plain": [
       "{'open': 51.76,\n",
       " 'high': 51.94,\n",
       " 'low': 51.45,\n",
       " 'close': 51.76,\n",
       " 'volume': 34640.0,\n",
       " 'turnover': 1792304.0}"
      ]
     },
     "execution_count": 131,
     "metadata": {},
     "output_type": "execute_result"
    }
   ],
   "source": [
    "#check dictionary for sample date\n",
    "clean_zeiss_2017['2017-12-29']"
   ]
  },
  {
   "cell_type": "markdown",
   "metadata": {},
   "source": [
    "QUESTION 3"
   ]
  },
  {
   "cell_type": "code",
   "execution_count": 132,
   "metadata": {},
   "outputs": [
    {
     "name": "stdout",
     "output_type": "stream",
     "text": [
      "open_low = 34.0\n",
      "open_high = 53.11\n"
     ]
    }
   ],
   "source": [
    "#remove NoneType\n",
    "clean_opening = [price for price in opening if price is not None]\n",
    "#calculate min of list\n",
    "open_low = min(clean_opening)\n",
    "open_high = max(clean_opening)\n",
    "\n",
    "print('open_low = ' + str(open_low) )\n",
    "print('open_high = ' + str(open_high) )"
   ]
  },
  {
   "cell_type": "markdown",
   "metadata": {},
   "source": [
    "QUESTION 4"
   ]
  },
  {
   "cell_type": "code",
   "execution_count": 133,
   "metadata": {},
   "outputs": [
    {
     "name": "stdout",
     "output_type": "stream",
     "text": [
      "max_change = 2.8100000000000023\n"
     ]
    }
   ],
   "source": [
    "#Generate Daily High - Low since this field was None in original json (no None data in high or low)\n",
    "daily_range = [high[j] - low[j] for j in range(n)]\n",
    "max_change = max(daily_range) \n",
    "print('max_change = ' + str(max_change) )"
   ]
  },
  {
   "cell_type": "markdown",
   "metadata": {},
   "source": [
    "QUESTION 5"
   ]
  },
  {
   "cell_type": "code",
   "execution_count": 134,
   "metadata": {},
   "outputs": [
    {
     "name": "stdout",
     "output_type": "stream",
     "text": [
      "max_dod_delta = 2.559999999999995\n"
     ]
    }
   ],
   "source": [
    "#Generate day on day change (closing has no None data) \n",
    "dod_delta= [closing[j+1] - closing[j] for j in range(n-1)]\n",
    "max_dod_delta = max(dod_delta)\n",
    "print('max_dod_delta = ' + str(max_dod_delta) )"
   ]
  },
  {
   "cell_type": "markdown",
   "metadata": {},
   "source": [
    "QUESTION 6"
   ]
  },
  {
   "cell_type": "code",
   "execution_count": 135,
   "metadata": {},
   "outputs": [
    {
     "name": "stdout",
     "output_type": "stream",
     "text": [
      "ave_volume = 89124.33725490196\n"
     ]
    }
   ],
   "source": [
    "#Calculate average volume using sum / count formula\n",
    "ave_volume = sum(volume) / len(volume)\n",
    "print('ave_volume = ' + str(ave_volume) )"
   ]
  },
  {
   "cell_type": "markdown",
   "metadata": {},
   "source": [
    "QUESTION 7"
   ]
  },
  {
   "cell_type": "code",
   "execution_count": 137,
   "metadata": {},
   "outputs": [
    {
     "name": "stdout",
     "output_type": "stream",
     "text": [
      "median_volume = 76600.0\n"
     ]
    }
   ],
   "source": [
    "volume_sort = sorted(volume)          #Sort volume in ascending order\n",
    "num = len(volume)                     # count of volume\n",
    "\n",
    "#formuala for calculating median \n",
    "\n",
    "if num //2 !=0:                                                  #if count is odd the middle element given by count//2+1\n",
    "    median = volume_sort[num//2 + 1]\n",
    "else:\n",
    "    median = (volume_sort[num/2] + volume_sort[num/2 + 1]) / 2   #if not odd then given by sum of \"middle two elements\" \n",
    "\n",
    "print('median_volume = ' + str(median))\n",
    "   "
   ]
  }
 ],
 "metadata": {
  "kernelspec": {
   "display_name": "Python 3",
   "language": "python",
   "name": "python3"
  },
  "language_info": {
   "codemirror_mode": {
    "name": "ipython",
    "version": 3
   },
   "file_extension": ".py",
   "mimetype": "text/x-python",
   "name": "python",
   "nbconvert_exporter": "python",
   "pygments_lexer": "ipython3",
   "version": "3.7.4"
  }
 },
 "nbformat": 4,
 "nbformat_minor": 2
}
